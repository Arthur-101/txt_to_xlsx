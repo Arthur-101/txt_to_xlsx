{
 "cells": [
  {
   "cell_type": "code",
   "execution_count": 1,
   "metadata": {},
   "outputs": [],
   "source": [
    "import re\n",
    "import pandas as pd\n",
    "from openpyxl import Workbook"
   ]
  },
  {
   "cell_type": "code",
   "execution_count": 2,
   "metadata": {},
   "outputs": [],
   "source": [
    "# Read the text file\n",
    "with open('65027 XII.txt', 'r') as file:\n",
    "    text = file.read()"
   ]
  },
  {
   "cell_type": "code",
   "execution_count": 3,
   "metadata": {},
   "outputs": [],
   "source": [
    "# Define patterns for extracting Date, School code and name, and Region\n",
    "date_pattern = r\"DATE:- (\\d{2}/\\d{2}/\\d{4})\"\n",
    "school_pattern = r\"SCHOOL : - (\\d+) (.+)\"\n",
    "region_pattern = r\"REGION: (.+)\"\n",
    "subject_header_pattern = r\"SUB CD\\s+SUB CD\\s+SUB CD\\s+SUB CD\\s+SUB CD\\s+SUB CD\"\n"
   ]
  },
  {
   "cell_type": "code",
   "execution_count": 4,
   "metadata": {},
   "outputs": [],
   "source": [
    "# Find matches for Date, School code and name, and Region\n",
    "date_match = re.search(date_pattern, text)\n",
    "school_match = re.search(school_pattern, text)\n",
    "region_match = re.search(region_pattern, text)\n",
    "\n",
    "date = date_match.group(1) if date_match else \"\"\n",
    "school_code = school_match.group(1) if school_match else \"\"\n",
    "school_name = school_match.group(2) if school_match else \"\"\n",
    "region = region_match.group(1) if region_match else \"\"\n"
   ]
  },
  {
   "cell_type": "code",
   "execution_count": 5,
   "metadata": {},
   "outputs": [],
   "source": [
    "# Find the starting index of the subject data table\n",
    "subject_header_match = re.search(subject_header_pattern, text)\n",
    "subject_table_start = subject_header_match.end() if subject_header_match else None\n"
   ]
  },
  {
   "cell_type": "code",
   "execution_count": 12,
   "metadata": {},
   "outputs": [
    {
     "name": "stdout",
     "output_type": "stream",
     "text": [
      "Excel file 'output_file.xlsx' has been created.\n"
     ]
    }
   ],
   "source": [
    "# If the subject table is found, extract the subject data\n",
    "if subject_table_start:\n",
    "    subject_data = text[subject_table_start:].strip()\n",
    "\n",
    "    # Define the pattern to extract data for each candidate\n",
    "    candidate_pattern = r\"(\\d+)\\s+(\\w)\\s+(\\w.+?)\\s+(\\d{3})\\s+(\\d{3})\\s+(\\d{3})\\s+(\\d{3})\\s+(\\d{3})\\s+(\\d{3})\\s+(\\w \\w \\w)\\s+(\\w+)\\s*\"\n",
    "\n",
    "    # Find all matches in the subject data using the candidate pattern\n",
    "    matches = re.findall(candidate_pattern, subject_data)\n",
    "\n",
    "    # Initialize empty lists to store data\n",
    "    data = []\n",
    "\n",
    "    # Process each match and extract data points\n",
    "    for match in matches:\n",
    "        roll_number = match[0]\n",
    "        gender = match[1]\n",
    "        name = match[2].strip()\n",
    "        subjects_list = match[3:9]\n",
    "        grades_list = match[9:15]\n",
    "        result = match[15]\n",
    "        comp_subject = match[16].strip()\n",
    "\n",
    "        row_data = [roll_number, gender, name, *subjects_list, *grades_list, result, comp_subject]\n",
    "        data.append(row_data)\n",
    "\n",
    "    # Create a pandas DataFrame\n",
    "    df = pd.DataFrame(data, columns=['Roll No.', 'Gender', 'Student Name',\n",
    "                                     'Subject 1', 'Subject 2', 'Subject 3', 'Subject 4', 'Subject 5', 'Subject 6',\n",
    "                                     'Grade 1', 'Grade 2', 'Grade 3', 'Grade 4', 'Grade 5', 'Grade 6', 'Result', 'Comp Subject'])\n",
    "\n",
    "    # Create a new Excel workbook\n",
    "    workbook = Workbook()\n",
    "\n",
    "    # Add the DataFrame to the Excel workbook\n",
    "    sheet = workbook.active\n",
    "    # for r_idx, row in enumerate(df.values, start=2):  # Start from row 2 to leave space for headers\n",
    "    #     for c_idx, value in enumerate(row, start=1):\n",
    "    #         sheet.cell(row=r_idx, column=c_idx, value=value)\n",
    "\n",
    "    # Add additional information (Date, School Code, School Name, Region) to the Excel file\n",
    "    sheet['A1'] = 'Date'\n",
    "    sheet['B1'] = 'School Code'\n",
    "    sheet['C1'] = 'School Name'\n",
    "    sheet['D1'] = 'Region'\n",
    "\n",
    "    sheet['A2'] = date\n",
    "    sheet['B2'] = school_code\n",
    "    sheet['C2'] = school_name\n",
    "    sheet['D2'] = region\n",
    "\n",
    " # Add the column headers\n",
    "    for c_idx, column in enumerate(df.columns, start=1):\n",
    "        sheet.cell(row=4, column=c_idx, value=column)\n",
    "\n",
    "     # Add the subject-wise data to the Excel file\n",
    "    for r_idx, row in enumerate(df.values, start=6):  # Start from row 6 to leave space for headers and additional info\n",
    "        for c_idx, value in enumerate(row, start=1):\n",
    "            sheet.cell(row=r_idx, column=c_idx, value=value)\n",
    "\n",
    "    # Save the Excel workbook\n",
    "    workbook.save('output_file.xlsx')\n",
    "\n",
    "    print(\"Excel file 'output_file.xlsx' has been created.\")\n",
    "else:\n",
    "    print(\"Subject data table not found in the text file.\")"
   ]
  },
  {
   "cell_type": "code",
   "execution_count": null,
   "metadata": {},
   "outputs": [],
   "source": []
  }
 ],
 "metadata": {
  "kernelspec": {
   "display_name": "Python 3",
   "language": "python",
   "name": "python3"
  },
  "language_info": {
   "codemirror_mode": {
    "name": "ipython",
    "version": 3
   },
   "file_extension": ".py",
   "mimetype": "text/x-python",
   "name": "python",
   "nbconvert_exporter": "python",
   "pygments_lexer": "ipython3",
   "version": "3.11.4"
  },
  "orig_nbformat": 4
 },
 "nbformat": 4,
 "nbformat_minor": 2
}

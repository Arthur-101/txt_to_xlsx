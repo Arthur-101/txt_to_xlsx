{
 "cells": [
  {
   "cell_type": "code",
   "execution_count": 1,
   "metadata": {},
   "outputs": [],
   "source": [
    "import re\n",
    "import pandas as pd\n",
    "from openpyxl import Workbook"
   ]
  },
  {
   "cell_type": "code",
   "execution_count": 2,
   "metadata": {},
   "outputs": [],
   "source": [
    "# Reading the text file:-\n",
    "with open('65027 XII.txt') as file:\n",
    "    reader = file.read()"
   ]
  },
  {
   "cell_type": "code",
   "execution_count": 3,
   "metadata": {},
   "outputs": [],
   "source": [
    "# Defining the patterns to get 'Date', 'School Code', 'School Name' and Region' :-\n",
    "date_pattern = r\"DATE:- (\\d{2}/\\d{2}/\\d{4})\"\n",
    "school_pattern = r\"SCHOOL : - (\\d+) (.+)\"\n",
    "region_pattern = r\"REGION:\\s+(\\S+)\"\n"
   ]
  },
  {
   "cell_type": "code",
   "execution_count": 4,
   "metadata": {},
   "outputs": [],
   "source": [
    "# Finding the matches for 'Date', 'School code', 'School name', and 'Region' :-\n",
    "date_match = re.search(date_pattern, reader)\n",
    "school_match = re.search(school_pattern, reader)\n",
    "region_match = re.search(region_pattern, reader)\n",
    "\n",
    "# Giving variable name to all the data:-\n",
    "date = date_match.group(1) if date_match else \"\"\n",
    "school_code = school_match.group(1) if school_match else \"\"\n",
    "school_name = school_match.group(2) if school_match else \"\"\n",
    "region = region_match.group(1) if region_match else \"\"\n"
   ]
  },
  {
   "cell_type": "code",
   "execution_count": null,
   "metadata": {},
   "outputs": [],
   "source": [
    "# Define the pattern to extract data for each candidate\n",
    "candidate_pattern = r\"(\\d+)\\s+(\\w)\\s+(\\w.+?)\\s+(\\d{3})\\s+(\\d{3})\\s+(\\d{3})\\s+(\\d{3})\\s+(\\d{3})\\s+(\\d{3})\\s+(\\w \\w \\w)\\s+(\\w+)\\s*\"\n",
    "print(candidate_pattern)"
   ]
  },
  {
   "cell_type": "code",
   "execution_count": null,
   "metadata": {},
   "outputs": [],
   "source": [
    "# Create a pandas DataFrame\n",
    "df = pd.DataFrame(data, columns=['Roll No.', 'Gender', 'Student Name',\n",
    "    'Subject 1', 'Subject 2', 'Subject 3', 'Subject 4', 'Subject 5', 'Subject 6',\n",
    "    'Grade 1', 'Grade 2', 'Grade 3', 'Grade 4', 'Grade 5', 'Grade 6', 'Result', 'Comp Subject'])\n"
   ]
  },
  {
   "cell_type": "code",
   "execution_count": null,
   "metadata": {},
   "outputs": [],
   "source": []
  }
 ],
 "metadata": {
  "kernelspec": {
   "display_name": "Python 3",
   "language": "python",
   "name": "python3"
  },
  "language_info": {
   "codemirror_mode": {
    "name": "ipython",
    "version": 3
   },
   "file_extension": ".py",
   "mimetype": "text/x-python",
   "name": "python",
   "nbconvert_exporter": "python",
   "pygments_lexer": "ipython3",
   "version": "3.11.4"
  },
  "orig_nbformat": 4
 },
 "nbformat": 4,
 "nbformat_minor": 2
}

{
 "cells": [
  {
   "cell_type": "code",
   "execution_count": 1,
   "metadata": {},
   "outputs": [],
   "source": [
    "import re\n",
    "import pandas as pd\n",
    "import numpy as np\n"
   ]
  },
  {
   "cell_type": "code",
   "execution_count": 2,
   "metadata": {},
   "outputs": [],
   "source": [
    "input_string = \"22614342   M ABHIMANYU KUMAR                                     301     302     041     042     043     048      B1 A2 B2    PASS\\n                                  076  B2 080  B1 051  D1 063  C1 052  D2 083  B1\"\n"
   ]
  },
  {
   "cell_type": "code",
   "execution_count": 3,
   "metadata": {},
   "outputs": [],
   "source": [
    "# Pattern to extract Roll, Gender, and Name\n",
    "roll_gender_name_pattern = r\"(\\d+)\\s+(\\w)\\s+([A-Z ]+)\"\n",
    "\n",
    "# Pattern to extract Subject Codes\n",
    "subject_codes_pattern = r\"(\\d{3}\\s+){5}\\d{3}\"\n",
    "\n",
    "# Pattern to extract Result\n",
    "result_pattern = r\"\\b(PASS|FAIL|COMP)\\b\"\n",
    "\n",
    "# Pattern to extract Marks and Grades\n",
    "marks_grades_pattern = r\"(\\d{3}\\s\\s[A-D][1-9])\"\n",
    "\n",
    "# Extracting Roll, Gender, and Name\n",
    "roll, gender, name = re.search(roll_gender_name_pattern, input_string).groups()\n",
    "\n",
    "# Extracting Subject Codes and Separating individual subject codes\n",
    "subject_codes_string = re.search(subject_codes_pattern, input_string).group()\n",
    "subject_codes = re.findall(r\"\\d{3}\", subject_codes_string)\n",
    "\n",
    "# Extracting Result\n",
    "result = re.search(result_pattern, input_string).group()\n",
    "\n",
    "# Extracting Marks and Grades\n",
    "marks_grades = re.findall(marks_grades_pattern, input_string)"
   ]
  },
  {
   "cell_type": "code",
   "execution_count": 2,
   "metadata": {},
   "outputs": [
    {
     "data": {
      "text/html": [
       "<div>\n",
       "<style scoped>\n",
       "    .dataframe tbody tr th:only-of-type {\n",
       "        vertical-align: middle;\n",
       "    }\n",
       "\n",
       "    .dataframe tbody tr th {\n",
       "        vertical-align: top;\n",
       "    }\n",
       "\n",
       "    .dataframe thead th {\n",
       "        text-align: right;\n",
       "    }\n",
       "</style>\n",
       "<table border=\"1\" class=\"dataframe\">\n",
       "  <thead>\n",
       "    <tr style=\"text-align: right;\">\n",
       "      <th></th>\n",
       "      <th>Roll</th>\n",
       "      <th>Gender</th>\n",
       "      <th>Name</th>\n",
       "      <th>Sub_1</th>\n",
       "      <th>Sub_2</th>\n",
       "      <th>Sub_3</th>\n",
       "      <th>Sub_4</th>\n",
       "      <th>Sub_5</th>\n",
       "      <th>Sub_6</th>\n",
       "      <th>Result</th>\n",
       "    </tr>\n",
       "  </thead>\n",
       "  <tbody>\n",
       "    <tr>\n",
       "      <th>0</th>\n",
       "      <td>22614342</td>\n",
       "      <td>M</td>\n",
       "      <td>ABHIMANYU KUMAR</td>\n",
       "      <td>301</td>\n",
       "      <td>302</td>\n",
       "      <td>041</td>\n",
       "      <td>042</td>\n",
       "      <td>043</td>\n",
       "      <td>048</td>\n",
       "      <td>PASS</td>\n",
       "    </tr>\n",
       "    <tr>\n",
       "      <th>1</th>\n",
       "      <td>NaN</td>\n",
       "      <td>NaN</td>\n",
       "      <td>NaN</td>\n",
       "      <td>048 B1</td>\n",
       "      <td>076 B2</td>\n",
       "      <td>080 B1</td>\n",
       "      <td>051 D1</td>\n",
       "      <td>063 C1</td>\n",
       "      <td>052 D2</td>\n",
       "      <td>NaN</td>\n",
       "    </tr>\n",
       "  </tbody>\n",
       "</table>\n",
       "</div>"
      ],
      "text/plain": [
       "       Roll Gender             Name   Sub_1   Sub_2   Sub_3   Sub_4   Sub_5  \\\n",
       "0  22614342      M  ABHIMANYU KUMAR     301     302     041     042     043   \n",
       "1       NaN    NaN              NaN  048 B1  076 B2  080 B1  051 D1  063 C1   \n",
       "\n",
       "    Sub_6 Result  \n",
       "0     048   PASS  \n",
       "1  052 D2    NaN  "
      ]
     },
     "execution_count": 2,
     "metadata": {},
     "output_type": "execute_result"
    }
   ],
   "source": [
    "# Create the dataframe\n",
    "data = {\n",
    "    'Roll': [roll, np.NaN],\n",
    "    'Gender': [gender, np.NaN],\n",
    "    'Name': [name.strip(), np.NaN],\n",
    "    'Sub_1': [subject_codes[0], marks_grades[0]],\n",
    "    'Sub_2': [subject_codes[1], marks_grades[1]],\n",
    "    'Sub_3': [subject_codes[2], marks_grades[2]],\n",
    "    'Sub_4': [subject_codes[3], marks_grades[3]],\n",
    "    'Sub_5': [subject_codes[4], marks_grades[4]],\n",
    "    'Sub_6': [subject_codes[5], marks_grades[5]],\n",
    "    'Result': [result, np.NaN],\n",
    "}\n",
    "df = pd.DataFrame(data)\n",
    "df"
   ]
  },
  {
   "cell_type": "code",
   "execution_count": null,
   "metadata": {},
   "outputs": [],
   "source": []
  }
 ],
 "metadata": {
  "kernelspec": {
   "display_name": "Python 3",
   "language": "python",
   "name": "python3"
  },
  "language_info": {
   "codemirror_mode": {
    "name": "ipython",
    "version": 3
   },
   "file_extension": ".py",
   "mimetype": "text/x-python",
   "name": "python",
   "nbconvert_exporter": "python",
   "pygments_lexer": "ipython3",
   "version": "3.11.4"
  },
  "orig_nbformat": 4
 },
 "nbformat": 4,
 "nbformat_minor": 2
}

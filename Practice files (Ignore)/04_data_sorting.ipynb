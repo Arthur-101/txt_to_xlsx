{
 "cells": [
  {
   "cell_type": "code",
   "execution_count": 1,
   "metadata": {},
   "outputs": [],
   "source": [
    "import re\n",
    "import pandas as pd"
   ]
  },
  {
   "cell_type": "code",
   "execution_count": 2,
   "metadata": {},
   "outputs": [],
   "source": [
    "# Read the text file\n",
    "with open('65027 XII.txt', 'r') as file:\n",
    "    text = file.read()"
   ]
  },
  {
   "cell_type": "code",
   "execution_count": 3,
   "metadata": {},
   "outputs": [],
   "source": [
    "# Define patterns for extracting Date, School code and name, and Region\n",
    "date_pattern = r\"DATE:- (\\d{2}/\\d{2}/\\d{4})\"\n",
    "school_pattern = r\"SCHOOL : - (\\d+) (.+)\"\n",
    "region_pattern = r\"REGION: (.+)\""
   ]
  },
  {
   "cell_type": "code",
   "execution_count": 4,
   "metadata": {},
   "outputs": [],
   "source": [
    "# Find matches for Date, School code and name, and Region\n",
    "date_match = re.search(date_pattern, text)\n",
    "school_match = re.search(school_pattern, text)\n",
    "region_match = re.search(region_pattern, text)"
   ]
  },
  {
   "cell_type": "code",
   "execution_count": 5,
   "metadata": {},
   "outputs": [],
   "source": [
    "date = date_match.group(1) if date_match else \"\"\n",
    "school_code = school_match.group(1) if school_match else \"\"\n",
    "school_name = school_match.group(2) if school_match else \"\"\n",
    "region = region_match.group(1) if region_match else \"\""
   ]
  },
  {
   "cell_type": "code",
   "execution_count": 6,
   "metadata": {},
   "outputs": [],
   "source": [
    "# Define the pattern to extract data for each candidate\n",
    "candidate_pattern = r\"(\\d+)\\s+(\\w)\\s+(\\w.+?)\\s+(\\d{3})\\s+(\\d{3})\\s+(\\d{3})\\s+(\\d{3})\\s+(\\d{3})\\s+(\\d{3})\\s+(\\w \\w \\w)\\s+(\\w+)\\s*\"\n"
   ]
  },
  {
   "cell_type": "code",
   "execution_count": 7,
   "metadata": {},
   "outputs": [],
   "source": [
    "# Find all matches in the text using the candidate pattern\n",
    "matches = re.findall(candidate_pattern, text)"
   ]
  },
  {
   "cell_type": "code",
   "execution_count": 8,
   "metadata": {},
   "outputs": [],
   "source": [
    "# Initialize empty lists to store data\n",
    "roll_numbers = []\n",
    "genders = []\n",
    "names = []\n",
    "subjects = []\n",
    "grades = []\n",
    "results = []\n",
    "comp_subjects = []"
   ]
  },
  {
   "cell_type": "code",
   "execution_count": 9,
   "metadata": {},
   "outputs": [],
   "source": [
    "# Process each match and extract data points\n",
    "for match in matches:\n",
    "    roll_number = match[0]\n",
    "    gender = match[1]\n",
    "    name = match[2].strip()\n",
    "    subjects_list = match[3:9]\n",
    "    grades_list = match[9:15]\n",
    "    result = match[15]\n",
    "    comp_subject = match[16].strip()\n",
    "\n",
    "    roll_numbers.append(roll_number)\n",
    "    genders.append(gender)\n",
    "    names.append(name)\n",
    "    subjects.append(subjects_list)\n",
    "    grades.append(grades_list)\n",
    "    results.append(result)\n",
    "    comp_subjects.append(comp_subject)"
   ]
  },
  {
   "cell_type": "code",
   "execution_count": 13,
   "metadata": {},
   "outputs": [],
   "source": [
    "# Create a pandas dataframe\n",
    "df = pd.DataFrame({\n",
    "    'Roll No.': roll_numbers,\n",
    "    'Gender': genders,\n",
    "    'Student Name': names,\n",
    "    'Subjects': subjects,\n",
    "    'Grades': grades,\n",
    "    'Result': results,\n",
    "    'Comp Subject': comp_subjects\n",
    "})"
   ]
  },
  {
   "cell_type": "code",
   "execution_count": 16,
   "metadata": {},
   "outputs": [],
   "source": [
    "# Convert 'Subjects' and 'Grades' columns to strings\n",
    "df['Subjects'] = df['Subjects'].astype(str)\n",
    "df['Grades'] = df['Grades'].astype(str)"
   ]
  },
  {
   "cell_type": "code",
   "execution_count": 17,
   "metadata": {},
   "outputs": [],
   "source": [
    "# Extract subject codes from the first row and use them to name the subject columns\n",
    "subject_codes = df['Subjects'].apply(lambda x: 'Subject ' + x).str.cat(sep=',').split(',')\n",
    "grade_columns = df['Grades'].apply(lambda x: 'Grade ' + x).str.cat(sep=',').split(',')\n",
    "df = df.iloc[1:].reset_index(drop=True)\n",
    "df.columns = ['Roll No.', 'Gender', 'Student Name'] + subject_codes + grade_columns + ['Result', 'Comp Subject']\n"
   ]
  },
  {
   "cell_type": "code",
   "execution_count": 18,
   "metadata": {},
   "outputs": [
    {
     "ename": "ValueError",
     "evalue": "Columns must be same length as key",
     "output_type": "error",
     "traceback": [
      "\u001b[1;31m---------------------------------------------------------------------------\u001b[0m",
      "\u001b[1;31mValueError\u001b[0m                                Traceback (most recent call last)",
      "Cell \u001b[1;32mIn[18], line 2\u001b[0m\n\u001b[0;32m      1\u001b[0m \u001b[39m# Add extracted data to the dataframe\u001b[39;00m\n\u001b[1;32m----> 2\u001b[0m df[subject_codes] \u001b[39m=\u001b[39m subjects\n\u001b[0;32m      3\u001b[0m df[grade_columns] \u001b[39m=\u001b[39m grades\n\u001b[0;32m      4\u001b[0m df[\u001b[39m'\u001b[39m\u001b[39mResult\u001b[39m\u001b[39m'\u001b[39m] \u001b[39m=\u001b[39m results\n",
      "File \u001b[1;32mc:\\Users\\dell\\AppData\\Local\\Programs\\Python\\Python310\\lib\\site-packages\\pandas\\core\\frame.py:3948\u001b[0m, in \u001b[0;36mDataFrame.__setitem__\u001b[1;34m(self, key, value)\u001b[0m\n\u001b[0;32m   3946\u001b[0m     \u001b[39mself\u001b[39m\u001b[39m.\u001b[39m_setitem_frame(key, value)\n\u001b[0;32m   3947\u001b[0m \u001b[39melif\u001b[39;00m \u001b[39misinstance\u001b[39m(key, (Series, np\u001b[39m.\u001b[39mndarray, \u001b[39mlist\u001b[39m, Index)):\n\u001b[1;32m-> 3948\u001b[0m     \u001b[39mself\u001b[39;49m\u001b[39m.\u001b[39;49m_setitem_array(key, value)\n\u001b[0;32m   3949\u001b[0m \u001b[39melif\u001b[39;00m \u001b[39misinstance\u001b[39m(value, DataFrame):\n\u001b[0;32m   3950\u001b[0m     \u001b[39mself\u001b[39m\u001b[39m.\u001b[39m_set_item_frame_value(key, value)\n",
      "File \u001b[1;32mc:\\Users\\dell\\AppData\\Local\\Programs\\Python\\Python310\\lib\\site-packages\\pandas\\core\\frame.py:4007\u001b[0m, in \u001b[0;36mDataFrame._setitem_array\u001b[1;34m(self, key, value)\u001b[0m\n\u001b[0;32m   4004\u001b[0m     \u001b[39mreturn\u001b[39;00m \u001b[39mself\u001b[39m\u001b[39m.\u001b[39m_setitem_array(key, value)\n\u001b[0;32m   4006\u001b[0m \u001b[39melse\u001b[39;00m:\n\u001b[1;32m-> 4007\u001b[0m     \u001b[39mself\u001b[39;49m\u001b[39m.\u001b[39;49m_iset_not_inplace(key, value)\n",
      "File \u001b[1;32mc:\\Users\\dell\\AppData\\Local\\Programs\\Python\\Python310\\lib\\site-packages\\pandas\\core\\frame.py:4038\u001b[0m, in \u001b[0;36mDataFrame._iset_not_inplace\u001b[1;34m(self, key, value)\u001b[0m\n\u001b[0;32m   4035\u001b[0m     \u001b[39mraise\u001b[39;00m \u001b[39mNotImplementedError\u001b[39;00m\n\u001b[0;32m   4037\u001b[0m \u001b[39mif\u001b[39;00m np\u001b[39m.\u001b[39mshape(value)[\u001b[39m-\u001b[39m\u001b[39m1\u001b[39m] \u001b[39m!=\u001b[39m \u001b[39mlen\u001b[39m(ilocs):\n\u001b[1;32m-> 4038\u001b[0m     \u001b[39mraise\u001b[39;00m \u001b[39mValueError\u001b[39;00m(\u001b[39m\"\u001b[39m\u001b[39mColumns must be same length as key\u001b[39m\u001b[39m\"\u001b[39m)\n\u001b[0;32m   4040\u001b[0m \u001b[39massert\u001b[39;00m np\u001b[39m.\u001b[39mndim(value) \u001b[39m<\u001b[39m\u001b[39m=\u001b[39m \u001b[39m2\u001b[39m\n\u001b[0;32m   4042\u001b[0m orig_columns \u001b[39m=\u001b[39m \u001b[39mself\u001b[39m\u001b[39m.\u001b[39mcolumns\n",
      "\u001b[1;31mValueError\u001b[0m: Columns must be same length as key"
     ]
    }
   ],
   "source": [
    "# Add extracted data to the dataframe\n",
    "df[subject_codes] = subjects\n",
    "df[grade_columns] = grades\n",
    "df['Result'] = results\n",
    "df['Comp Subject'] = comp_subjects"
   ]
  },
  {
   "cell_type": "code",
   "execution_count": 19,
   "metadata": {},
   "outputs": [],
   "source": [
    "# Add additional information (Date, School Code, School Name, Region) to the dataframe\n",
    "df['Date'] = date\n",
    "df['School Code'] = school_code\n",
    "df['School Name'] = school_name\n",
    "df['Region'] = region"
   ]
  },
  {
   "cell_type": "code",
   "execution_count": 20,
   "metadata": {},
   "outputs": [
    {
     "name": "stdout",
     "output_type": "stream",
     "text": [
      "Empty DataFrame\n",
      "Columns: [Roll No., Gender, Student Name, , , Result, Comp Subject, Date, School Code, School Name, Region]\n",
      "Index: []\n"
     ]
    }
   ],
   "source": [
    "# Display the dataframe\n",
    "print(df)"
   ]
  },
  {
   "cell_type": "code",
   "execution_count": null,
   "metadata": {},
   "outputs": [],
   "source": []
  }
 ],
 "metadata": {
  "kernelspec": {
   "display_name": "Python 3",
   "language": "python",
   "name": "python3"
  },
  "language_info": {
   "codemirror_mode": {
    "name": "ipython",
    "version": 3
   },
   "file_extension": ".py",
   "mimetype": "text/x-python",
   "name": "python",
   "nbconvert_exporter": "python",
   "pygments_lexer": "ipython3",
   "version": "3.10.6"
  },
  "orig_nbformat": 4
 },
 "nbformat": 4,
 "nbformat_minor": 2
}

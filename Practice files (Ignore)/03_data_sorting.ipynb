{
 "cells": [
  {
   "cell_type": "code",
   "execution_count": 1,
   "metadata": {},
   "outputs": [],
   "source": [
    "import re\n",
    "import pandas as pd"
   ]
  },
  {
   "cell_type": "code",
   "execution_count": 2,
   "metadata": {},
   "outputs": [],
   "source": [
    "# Read the text file\n",
    "with open('65027 Xii.txt', 'r') as file:\n",
    "    text = file.read()"
   ]
  },
  {
   "cell_type": "code",
   "execution_count": 3,
   "metadata": {},
   "outputs": [],
   "source": [
    "# Define patterns for extracting Date, School code and name, and Region\n",
    "date_pattern = r\"DATE:- (\\d{2}/\\d{2}/\\d{4})\"\n",
    "school_pattern = r\"SCHOOL : - (\\d+) (.+)\"\n",
    "region_pattern = r\"REGION: (.+)\""
   ]
  },
  {
   "cell_type": "code",
   "execution_count": 4,
   "metadata": {},
   "outputs": [],
   "source": [
    "# Find matches for Date, School code and name, and Region\n",
    "date_match = re.search(date_pattern, text)\n",
    "school_match = re.search(school_pattern, text)\n",
    "region_match = re.search(region_pattern, text)\n",
    "\n",
    "date = date_match.group(1) if date_match else \"\"\n",
    "school_code = school_match.group(1) if school_match else \"\"\n",
    "school_name = school_match.group(2) if school_match else \"\"\n",
    "region = region_match.group(1) if region_match else \"\""
   ]
  },
  {
   "cell_type": "code",
   "execution_count": 5,
   "metadata": {},
   "outputs": [],
   "source": [
    "# Define the pattern to extract data for each candidate\n",
    "candidate_pattern = r\"(\\d+)\\s+(\\w)\\s+(\\w.+?)\\s+(\\d{3})\\s+(\\d{3})\\s+(\\d{3})\\s+(\\d{3})\\s+(\\d{3})\\s+(\\d{3})\\s+(\\w \\w \\w)\\s+(\\w+)\\s*\""
   ]
  },
  {
   "cell_type": "code",
   "execution_count": 6,
   "metadata": {},
   "outputs": [],
   "source": [
    "# Find all matches in the text using the candidate pattern\n",
    "matches = re.findall(candidate_pattern, text)"
   ]
  },
  {
   "cell_type": "code",
   "execution_count": 7,
   "metadata": {},
   "outputs": [],
   "source": [
    "# Initialize empty lists to store data\n",
    "roll_numbers = []\n",
    "genders = []\n",
    "names = []\n",
    "subjects = []\n",
    "grades = []\n",
    "results = []\n",
    "comp_subjects = []"
   ]
  },
  {
   "cell_type": "code",
   "execution_count": 8,
   "metadata": {},
   "outputs": [],
   "source": [
    "# Process each match and extract data points\n",
    "for match in matches:\n",
    "    roll_number = match[0]\n",
    "    gender = match[1]\n",
    "    name = match[2].strip()\n",
    "    subjects_list = match[3:9]\n",
    "    grades_list = match[9:15]\n",
    "    result = match[15]\n",
    "    comp_subject = match[16].strip()\n",
    "\n",
    "    roll_numbers.append(roll_number)\n",
    "    genders.append(gender)\n",
    "    names.append(name)\n",
    "    subjects.append(subjects_list)\n",
    "    grades.append(grades_list)\n",
    "    results.append(result)\n",
    "    comp_subjects.append(comp_subject)"
   ]
  },
  {
   "cell_type": "code",
   "execution_count": 9,
   "metadata": {},
   "outputs": [],
   "source": [
    "# Create a pandas dataframe\n",
    "df = pd.DataFrame({\n",
    "    'Roll No.': roll_numbers,\n",
    "    'Gender': genders,\n",
    "    'Student Name': names,\n",
    "    'Subject 1': [s[0] for s in subjects],\n",
    "    'Grade 1': [g[0] for g in grades],\n",
    "    'Subject 2': [s[1] for s in subjects],\n",
    "    'Grade 2': [g[1] for g in grades],\n",
    "    'Subject 3': [s[2] for s in subjects],\n",
    "    'Grade 3': [g[2] for g in grades],\n",
    "    'Subject 4': [s[3] for s in subjects],\n",
    "    'Grade 4': [g[3] for g in grades],\n",
    "    'Subject 5': [s[4] for s in subjects],\n",
    "    'Grade 5': [g[4] for g in grades],\n",
    "    'Subject 6': [s[5] for s in subjects],\n",
    "    'Grade 6': [g[5] for g in grades],\n",
    "    'Result': results,\n",
    "    'Comp Subject': comp_subjects\n",
    "})"
   ]
  },
  {
   "cell_type": "code",
   "execution_count": 10,
   "metadata": {},
   "outputs": [],
   "source": [
    "# Add additional information (Date, School Code, School Name, Region) to the dataframe\n",
    "df['Date'] = date\n",
    "df['School Code'] = school_code\n",
    "df['School Name'] = school_name\n",
    "df['Region'] = region"
   ]
  },
  {
   "cell_type": "code",
   "execution_count": 11,
   "metadata": {},
   "outputs": [
    {
     "name": "stdout",
     "output_type": "stream",
     "text": [
      "Empty DataFrame\n",
      "Columns: [Roll No., Gender, Student Name, Subject 1, Grade 1, Subject 2, Grade 2, Subject 3, Grade 3, Subject 4, Grade 4, Subject 5, Grade 5, Subject 6, Grade 6, Result, Comp Subject, Date, School Code, School Name, Region]\n",
      "Index: []\n",
      "\n",
      "[0 rows x 21 columns]\n"
     ]
    }
   ],
   "source": [
    "# Display the dataframe\n",
    "print(df)"
   ]
  }
 ],
 "metadata": {
  "kernelspec": {
   "display_name": "Python 3",
   "language": "python",
   "name": "python3"
  },
  "language_info": {
   "codemirror_mode": {
    "name": "ipython",
    "version": 3
   },
   "file_extension": ".py",
   "mimetype": "text/x-python",
   "name": "python",
   "nbconvert_exporter": "python",
   "pygments_lexer": "ipython3",
   "version": "3.10.6"
  },
  "orig_nbformat": 4
 },
 "nbformat": 4,
 "nbformat_minor": 2
}

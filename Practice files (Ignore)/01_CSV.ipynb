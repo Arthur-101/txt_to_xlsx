{
 "cells": [
  {
   "cell_type": "code",
   "execution_count": 1,
   "metadata": {},
   "outputs": [],
   "source": [
    "import csv"
   ]
  },
  {
   "cell_type": "code",
   "execution_count": 2,
   "metadata": {},
   "outputs": [],
   "source": [
    "# Open a CSV file for writing\n",
    "with open('output.csv', 'w', newline='') as file:\n",
    "    # Create a CSV writer object\n",
    "    writer = csv.writer(file)\n",
    "\n",
    "    # Write the header row\n",
    "    writer.writerow(['Column1', 'Column2', 'Column3'])\n",
    "\n",
    "    # Write data rows\n",
    "    writer.writerow(['Value1', 'Value2', 'Value3'])\n",
    "    writer.writerow(['Value4', 'Value5', 'Value6'])"
   ]
  },
  {
   "cell_type": "code",
   "execution_count": 3,
   "metadata": {},
   "outputs": [
    {
     "name": "stdout",
     "output_type": "stream",
     "text": [
      "Column1 Column2\n",
      "Value1 Value2\n",
      "Value4 Value5\n"
     ]
    }
   ],
   "source": [
    "# Open a CSV file for reading\n",
    "with open('output.csv', 'r') as file:\n",
    "    # Create a CSV reader object\n",
    "    reader = csv.reader(file)\n",
    "\n",
    "    # Iterate over each row in the CSV file\n",
    "    for row in reader:\n",
    "        # Accessing data in each column of the current row\n",
    "        column1 = row[0]\n",
    "        column2 = row[1]\n",
    "        print(column1,column2)"
   ]
  },
  {
   "cell_type": "code",
   "execution_count": 4,
   "metadata": {},
   "outputs": [
    {
     "name": "stdout",
     "output_type": "stream",
     "text": [
      "Value1 Value2\n",
      "Value4 Value5\n"
     ]
    }
   ],
   "source": [
    "# Open a CSV file for reading\n",
    "with open('output.csv', 'r') as file:\n",
    "    # Create a CSV dictionary reader object\n",
    "    reader = csv.DictReader(file)\n",
    "\n",
    "    # Iterate over each row in the CSV file\n",
    "    for row in reader:\n",
    "        # Accessing data using column names as dictionary keys\n",
    "        column1 = row['Column1']\n",
    "        column2 = row['Column2']\n",
    "        print(column1,column2)"
   ]
  },
  {
   "cell_type": "code",
   "execution_count": 5,
   "metadata": {},
   "outputs": [],
   "source": [
    "# Open a CSV file for writing\n",
    "with open('output.csv', 'w', newline='') as file:\n",
    "    # Define field names for the CSV file\n",
    "    fieldnames = ['Column1', 'Column2', 'Column3']\n",
    "\n",
    "    # Create a CSV dictionary writer object\n",
    "    writer = csv.DictWriter(file, fieldnames=fieldnames)\n",
    "\n",
    "    # Write the header row\n",
    "    writer.writeheader()\n",
    "\n",
    "    # Write data rows\n",
    "    writer.writerow({'Column1': 'Value1', 'Column2': 'Value2', 'Column3': 'Value3'})\n",
    "    writer.writerow({'Column1': 'Value4', 'Column2': 'Value5', 'Column3': 'Value6'})"
   ]
  },
  {
   "cell_type": "code",
   "execution_count": 6,
   "metadata": {},
   "outputs": [
    {
     "name": "stdout",
     "output_type": "stream",
     "text": [
      "['Column1,Column2,Column3']\n",
      "['Value1,Value2,Value3']\n",
      "['Value4,Value5,Value6']\n"
     ]
    }
   ],
   "source": [
    "# Register a custom CSV dialect\n",
    "my_dilect = csv.excel()\n",
    "csv.register_dialect('my_dialect', my_dilect, delimiter=';', quoting=csv.QUOTE_ALL)\n",
    "\n",
    "# Open a CSV file using the custom dialect\n",
    "with open('output.csv', 'r') as file:\n",
    "    reader = csv.reader(file, dialect='my_dialect')\n",
    "\n",
    "    for row in reader:\n",
    "        print(row)\n"
   ]
  },
  {
   "cell_type": "code",
   "execution_count": 7,
   "metadata": {},
   "outputs": [
    {
     "name": "stdout",
     "output_type": "stream",
     "text": [
      "['Column1', 'Column2', 'Column3']\n"
     ]
    }
   ],
   "source": [
    "# Open a CSV file for reading\n",
    "with open('output.csv', 'r') as file:\n",
    "    reader = csv.reader(file)\n",
    "    header = next(reader)\n",
    "    print(header)"
   ]
  },
  {
   "cell_type": "code",
   "execution_count": null,
   "metadata": {},
   "outputs": [],
   "source": []
  }
 ],
 "metadata": {
  "kernelspec": {
   "display_name": "Python 3",
   "language": "python",
   "name": "python3"
  },
  "language_info": {
   "codemirror_mode": {
    "name": "ipython",
    "version": 3
   },
   "file_extension": ".py",
   "mimetype": "text/x-python",
   "name": "python",
   "nbconvert_exporter": "python",
   "pygments_lexer": "ipython3",
   "version": "3.10.6"
  },
  "orig_nbformat": 4
 },
 "nbformat": 4,
 "nbformat_minor": 2
}
